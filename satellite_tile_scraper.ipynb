{
 "cells": [
  {
   "cell_type": "code",
   "execution_count": 101,
   "metadata": {},
   "outputs": [],
   "source": [
    "import math\n",
    "import pandas as pd\n",
    "\n",
    "from random import random\n",
    "from time import sleep\n",
    "from requests import get\n",
    "from chromedriver_autoinstaller import install\n",
    "from selenium.webdriver import  Chrome, ChromeOptions"
   ]
  },
  {
   "cell_type": "code",
   "execution_count": null,
   "metadata": {},
   "outputs": [],
   "source": [
    "headers = {\n",
    "    'User-Agent': 'Mozilla/5.0 (Macintosh; Intel Mac OS X 10.8; rv:21.0) Gecko/20100101 Firefox/21.0'\n",
    "}\n",
    "\n",
    "session_key = None"
   ]
  },
  {
   "cell_type": "code",
   "execution_count": 71,
   "metadata": {},
   "outputs": [],
   "source": [
    "def create_session():\n",
    "    \"\"\" \n",
    "    Use headless Chrome/Chromium instance to scrape session key for Apple Maps from    \n",
    "    data-map-printing-background attribute of Satellites Pro\n",
    "    \"\"\"\n",
    "    print(\"Session creation in progress...\")\n",
    "    \n",
    "    session_key_sample = r'1614125879_3642792122889215637_%2F_RwvhYZM5fKknqTdkXih2Wcu3s2f3Xea126uoIuDzUIY%3D'\n",
    "    session_key_prefix = r'&accessKey='\n",
    "\n",
    "    # session boilerplate setup \n",
    "    options = ChromeOptions()\n",
    "    options.add_argument('headless')\n",
    "    driver = Chrome(executable_path=install(cwd=True), options=options)\n",
    "    driver.get('https://satellites.pro/USA_map#37.405074,-94.284668,5')\n",
    "\n",
    "    # wait for request to complete\n",
    "    sleep(5)\n",
    "\n",
    "    # extract session key from html element\n",
    "    base_element = driver.find_element_by_css_selector('#map-canvas .leaflet-mapkit-mutant')\n",
    "    data = base_element.get_attribute('data-map-printing-background')\n",
    "    prefix_begin = data.find(session_key_prefix)\n",
    "    contents = data[prefix_begin + len(session_key_prefix): prefix_begin + int(1.5 * len(session_key_sample))] \n",
    "    return contents[:contents.find('&')]"
   ]
  },
  {
   "cell_type": "code",
   "execution_count": 80,
   "metadata": {},
   "outputs": [
    {
     "name": "stdout",
     "output_type": "stream",
     "text": [
      "Session creation in progress...\n",
      "Session created with key: 1618907030_1874956892394077209_%2F_4NOmzZ5Si%2BSy58%2Fbl%2F8wYF1RfvjbWCAoOR74Azysd9A%3D\n"
     ]
    }
   ],
   "source": [
    "session_key = create_session()\n",
    "\n",
    "print('Session created with key: ' + str(session_key))"
   ]
  },
  {
   "cell_type": "code",
   "execution_count": 98,
   "metadata": {},
   "outputs": [],
   "source": [
    "class Tile:\n",
    "    def __init__(self, name, coordinates, zoom=18):\n",
    "        self.name = name \n",
    "        self.coordinates = coordinates\n",
    "        self.zoom = zoom\n",
    "        self.xy = self.coordinates_to_tile_xy()\n",
    "    \n",
    "    def coordinates_to_tile_xy(self):\n",
    "        latitude, longitude = self.coordinates\n",
    "        zoom_factor = 2 ** self.zoom\n",
    "        latitude = latitude * math.pi / 180.0\n",
    "        tile_x = zoom_factor * ((longitude + 180) / 360)\n",
    "        tile_y = zoom_factor * (1 - (math.log(math.tan(latitude) + 1 / math.cos(latitude)) / math.pi)) / 2\n",
    "        return round(tile_x), round(tile_y)"
   ]
  },
  {
   "cell_type": "code",
   "execution_count": 82,
   "metadata": {},
   "outputs": [],
   "source": [
    "def scrape_tile(tile, output_dir):\n",
    "    tile_x, tile_y = tile.xy\n",
    "    \n",
    "    # set request params\n",
    "    request_url = f'https://sat-cdn3.apple-mapkit.com/tile?style=7&size=1&scale=1&z={tile.zoom}&x={tile_x}&y={tile_y}&v=9062&accessKey={session_key}'\n",
    "    request = get(request_url, headers=headers)\n",
    "    \n",
    "    # Potential errors may include session key time out or forcible disconnect\n",
    "    # which requires a new session to be started\n",
    "    if 'Access Denied' in str(request.content):\n",
    "        raise Exception(f'Access Denied for Tile {tile_x}_{tile_y}')\n",
    "        \n",
    "    with open(output_dir + '/' + tile.name + '.jpg', 'wb') as fout:\n",
    "        fout.write(request.content) \n",
    "    return tile"
   ]
  },
  {
   "cell_type": "code",
   "execution_count": null,
   "metadata": {},
   "outputs": [],
   "source": [
    "dataframe = pd.read_csv('/Volumes/pakistancv/Survey/all_images_with_owner_names_matched.csv')\n",
    "num_count = 0\n",
    "\n",
    "print('Scraping tiles in progress...')\n",
    "\n",
    "for idx, row in dataframe.iterrows():\n",
    "    # if no coordinates avalible\n",
    "    if pd.isnull(row['y']):\n",
    "        continue \n",
    "        \n",
    "    tile = Tile(str(row['pin_mask']), (row['y'], row['x']))\n",
    "    scrape_tile(tile, 'satellite_tiles/' + row['district'].lower())\n",
    "    num_count += 1\n",
    "    sleep(random() * 3) # avoid ip block from bot behavior\n",
    "    \n",
    "print(str(num_count) + ' tiles scraped.')"
   ]
  }
 ],
 "metadata": {
  "kernelspec": {
   "display_name": "Python 3",
   "language": "python",
   "name": "python3"
  },
  "language_info": {
   "codemirror_mode": {
    "name": "ipython",
    "version": 3
   },
   "file_extension": ".py",
   "mimetype": "text/x-python",
   "name": "python",
   "nbconvert_exporter": "python",
   "pygments_lexer": "ipython3",
   "version": "3.6.5"
  }
 },
 "nbformat": 4,
 "nbformat_minor": 4
}
